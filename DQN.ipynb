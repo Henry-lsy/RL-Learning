{
 "cells": [
  {
   "cell_type": "markdown",
   "id": "98e0be10",
   "metadata": {},
   "source": [
    "### Value Approximation\n",
    "\n",
    "Find an optimal w, so that $\\hat{v} (s,w)$ can best approximate $v_\\pi(s)$ for every s.\n",
    "$$J(w) = E[(v_\\pi(S)-\\hat{v}(S,w))^2] \\\\ = \\sum_{s \\in S} d_\\pi(s)(v_\\pi(s)-\\hat{v}(s,w))^2$$\n",
    "\n",
    "**stationary distribution**\n",
    "it describes the long-run behavior of a Markov process. It also called steady-state distribution or limiting distribution.\n",
    "$$d_\\pi (s) \\approx \\frac{n_\\pi(s)}{\\sum_{s' \\in S}n_\\pi(s')}$$\n",
    "\n",
    "Use gradient descent $w_{k+1} = w_{k} - \\alpha_k \\nabla_w J(w_k)$. The true gradient is\n",
    "$$\\nabla_w J(w) = \\nabla_w E[(v_\\pi(S)-\\hat{v}(S,w))^2] \\\\ = E[\\nabla_w(v_\\pi(S)-\\hat{v}(S,w))^2] \\\\\n",
    "=-2E[(v_\\pi(S)-\\hat{v}(S,w))(\\nabla_w \\hat{v}(S, w))]$$\n",
    "\n",
    "Use the stochastic gradient to replace the true gradient $\\lim_{t\\to \\infty} w_t = E(.)$\n",
    "$$w_{t+1} = w_t + \\alpha_t(v_\\pi(s_t)-\\hat{v}(s_t, w_t))\\nabla_w \\hat{v}(s_t, w_t)$$\n",
    "\n",
    "**In fact, $v_\\pi(s)$ is unknown, so we should use some value to approximate**\n",
    "- Monte Carlo learning. Use $g_t$ to approximate $v_\\pi(s_t)$\n",
    "- TD learning. Use $w_{t+1} = w_t + \\alpha_t [r_{t+1} + \\gamma \\hat{v}(s_{t+1}, w_t)-\\hat{v}(s_t, w_t)] \\nabla_w(s_t, w_t)$ "
   ]
  },
  {
   "attachments": {},
   "cell_type": "markdown",
   "id": "66e3c7e9",
   "metadata": {},
   "source": []
  },
  {
   "cell_type": "code",
   "execution_count": null,
   "id": "552a20c5",
   "metadata": {},
   "outputs": [],
   "source": []
  }
 ],
 "metadata": {
  "kernelspec": {
   "display_name": "Python 3 (ipykernel)",
   "language": "python",
   "name": "python3"
  },
  "language_info": {
   "codemirror_mode": {
    "name": "ipython",
    "version": 3
   },
   "file_extension": ".py",
   "mimetype": "text/x-python",
   "name": "python",
   "nbconvert_exporter": "python",
   "pygments_lexer": "ipython3",
   "version": "3.11.3"
  }
 },
 "nbformat": 4,
 "nbformat_minor": 5
}
