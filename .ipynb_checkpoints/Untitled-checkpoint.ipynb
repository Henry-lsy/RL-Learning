{
 "cells": [
  {
   "cell_type": "code",
   "execution_count": 1,
   "id": "d433738e",
   "metadata": {},
   "outputs": [],
   "source": [
    "import gym"
   ]
  },
  {
   "cell_type": "code",
   "execution_count": 13,
   "id": "ced28490",
   "metadata": {},
   "outputs": [],
   "source": [
    "# parameter\n",
    "cfg_params = {\n",
    "    \"random_seed\": 0,\n",
    "    \"max_train_steps\": 20000,\n",
    "    \"max_episode_steps\": 500,\n",
    "}"
   ]
  },
  {
   "cell_type": "code",
   "execution_count": 5,
   "id": "6faa1c70",
   "metadata": {},
   "outputs": [],
   "source": [
    "import numpy as np\n",
    "\n",
    "class Agent():\n",
    "    def __init__(self, action_dim: int, state_dim: int, alpha=0.01, gamma=0.9, epsilon=0.1):\n",
    "        self.action_dim = action_dim\n",
    "        self.state_dim = state_dim\n",
    "        self.alpha = alpha\n",
    "        self.gamma = gamma\n",
    "        self.epsilon = epsilon\n",
    "        self.Q = np.zeros((state_dim, action_dim))  # 查表法 action value: Q(s, a)\n",
    "    \n",
    "    def select_action(self, s_k: int) -> int:\n",
    "        '''e-greedy policy'''\n",
    "        self.optimal_action\n",
    "        if np.random.uniform(0, 1) > self.epsilon:\n",
    "            a_k = self.optimal_action(s_k)\n",
    "        else:\n",
    "            a_k = self.other_action(s_k)\n",
    "        return a_k\n",
    "    \n",
    "    def optimal_action(self, s_k: int) -> int:\n",
    "        Q_sk = self.Q[s_k, :]\n",
    "        optimal_action_list = np.where(Q_sk == np.max(Q_sk))[0]\n",
    "        return np.random.choice(optimal_action_list)\n",
    "    \n",
    "    def other_action(self, s_k: int) -> int:\n",
    "        Q_sk = self.Q[s_k, :]\n",
    "        other_action_list = np.where(Q_sk != np.max(Q_sk))[0]\n",
    "        return np.random.choice(other_action_list)\n",
    "    \n",
    "    def train(self, s_k, a_k, r_k, s_k1):\n",
    "        # QLearning Algorithm\n",
    "        target_Q = r_k + self.gamma * np.max(self.Q[s_k1, :])\n",
    "        Q_sa = Q[s_k, a_k]\n",
    "        self.Q[s_k, a_k] += self.alpha* (target_Q - Q_sa)  "
   ]
  },
  {
   "cell_type": "code",
   "execution_count": 14,
   "id": "9b35eb96",
   "metadata": {},
   "outputs": [],
   "source": [
    "env = gym.make(\"CliffWalking-v0\", render_mode=\"human\")\n",
    "s_0, info = env.reset(seed=cfg_params[\"random_seed\"])\n",
    "\n",
    "agent = Agent(\n",
    "    action_dim=env.action_space.n,\n",
    "    state_dim=env.observation_space.n,\n",
    "    alpha=0.2,\n",
    "    gamma=0.9,\n",
    "    epsilon=0.1)"
   ]
  },
  {
   "cell_type": "markdown",
   "id": "3e5ceadb",
   "metadata": {},
   "source": [
    "Environment Model\n",
    "$p(r_k\\vert s_k, a_k)\\\\p(s_{k+1}\\vert s_k, a_k)$"
   ]
  },
  {
   "cell_type": "code",
   "execution_count": null,
   "id": "ae9347bf",
   "metadata": {},
   "outputs": [],
   "source": [
    "# training\n",
    "\n",
    "for k in range(cfg_params[\"max_train_steps\"]):\n",
    "    # reset the s_k\n",
    "    s_k, info = env.reset(seed=cfg_params[\"random_seed\"])\n",
    "    # start one episode\n",
    "    for _ in range(cfg_params[\"max_episode_steps\"]):\n",
    "        a_k = agent.select_action(s_k)\n",
    "        s_k1, r_k, terminated, truncated, info = env.step(a_k)\n",
    "        if terminated:\n",
    "            break\n",
    "        agent.train(s_k, a_k, r_k, s_k1)\n",
    "        s_k = s_k1\n",
    "        \n",
    "        \n",
    "        "
   ]
  }
 ],
 "metadata": {
  "kernelspec": {
   "display_name": "Python 3 (ipykernel)",
   "language": "python",
   "name": "python3"
  },
  "language_info": {
   "codemirror_mode": {
    "name": "ipython",
    "version": 3
   },
   "file_extension": ".py",
   "mimetype": "text/x-python",
   "name": "python",
   "nbconvert_exporter": "python",
   "pygments_lexer": "ipython3",
   "version": "3.11.3"
  }
 },
 "nbformat": 4,
 "nbformat_minor": 5
}
